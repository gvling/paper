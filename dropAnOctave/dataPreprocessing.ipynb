{
 "cells": [
  {
   "cell_type": "markdown",
   "metadata": {},
   "source": [
    "# Resize Dataset"
   ]
  },
  {
   "cell_type": "code",
   "execution_count": null,
   "metadata": {},
   "outputs": [],
   "source": [
    "from PIL import Image\n",
    "from multiprocessing import Pool\n",
    "from functools import partial\n",
    "import glob"
   ]
  },
  {
   "cell_type": "code",
   "execution_count": null,
   "metadata": {},
   "outputs": [],
   "source": [
    "# Dataset\n",
    "# https://www.kaggle.com/paramaggarwal/fashion-product-images-dataset\n",
    "\n",
    "srcPath = './img/fashion-dataset/images/'\n",
    "savePath = './img/fashion-dataset/224/'"
   ]
  },
  {
   "cell_type": "code",
   "execution_count": null,
   "metadata": {},
   "outputs": [],
   "source": [
    "def resizeImage(imgPath, size=(224,224)):\n",
    "    src = Image.open(imgPath)\n",
    "    return src.resize(size)\n",
    "\n",
    "def resizeAndSaveImage(imgPath, savePath):\n",
    "    imgName = imgPath.split('/')[-1]\n",
    "    resizedImg = resizeImage(imgPath)\n",
    "    resizedImg.save('{}{}'.format(savePath, imgName))"
   ]
  },
  {
   "cell_type": "code",
   "execution_count": null,
   "metadata": {},
   "outputs": [],
   "source": [
    "with Pool(processes=8) as pool:\n",
    "    pool.map(partial(resizeAndSaveImage, savePath=savePath), glob.glob('{}*'.format(srcPath)))"
   ]
  },
  {
   "cell_type": "markdown",
   "metadata": {},
   "source": [
    "# Make datasetCsv"
   ]
  },
  {
   "cell_type": "code",
   "execution_count": 2,
   "metadata": {
    "ExecuteTime": {
     "end_time": "2019-06-11T08:21:17.388455Z",
     "start_time": "2019-06-11T08:21:17.106968Z"
    }
   },
   "outputs": [],
   "source": [
    "import glob\n",
    "import pandas as pd\n",
    "import numpy as np"
   ]
  },
  {
   "cell_type": "code",
   "execution_count": 3,
   "metadata": {
    "ExecuteTime": {
     "end_time": "2019-06-11T08:23:30.444963Z",
     "start_time": "2019-06-11T08:23:30.433776Z"
    }
   },
   "outputs": [],
   "source": [
    "dataPath = './img/fashionDataset/224/'\n",
    "labelPath = './img/fashionDataset/styles.csv'\n",
    "datasetCsv = './img/fashionDataset/dataset224.csv'"
   ]
  },
  {
   "cell_type": "code",
   "execution_count": 4,
   "metadata": {
    "ExecuteTime": {
     "end_time": "2019-06-11T08:24:02.929653Z",
     "start_time": "2019-06-11T08:24:02.816408Z"
    }
   },
   "outputs": [],
   "source": [
    "allLabels = pd.read_csv(labelPath)"
   ]
  },
  {
   "cell_type": "code",
   "execution_count": 5,
   "metadata": {
    "ExecuteTime": {
     "end_time": "2019-06-11T08:24:09.159247Z",
     "start_time": "2019-06-11T08:24:09.111497Z"
    }
   },
   "outputs": [
    {
     "data": {
      "text/html": [
       "<div>\n",
       "<style scoped>\n",
       "    .dataframe tbody tr th:only-of-type {\n",
       "        vertical-align: middle;\n",
       "    }\n",
       "\n",
       "    .dataframe tbody tr th {\n",
       "        vertical-align: top;\n",
       "    }\n",
       "\n",
       "    .dataframe thead th {\n",
       "        text-align: right;\n",
       "    }\n",
       "</style>\n",
       "<table border=\"1\" class=\"dataframe\">\n",
       "  <thead>\n",
       "    <tr style=\"text-align: right;\">\n",
       "      <th></th>\n",
       "      <th>id</th>\n",
       "      <th>gender</th>\n",
       "      <th>masterCategory</th>\n",
       "      <th>subCategory</th>\n",
       "      <th>articleType</th>\n",
       "      <th>baseColour</th>\n",
       "      <th>season</th>\n",
       "      <th>year</th>\n",
       "      <th>usage</th>\n",
       "      <th>productDisplayName</th>\n",
       "    </tr>\n",
       "  </thead>\n",
       "  <tbody>\n",
       "    <tr>\n",
       "      <th>0</th>\n",
       "      <td>15970</td>\n",
       "      <td>Men</td>\n",
       "      <td>Apparel</td>\n",
       "      <td>Topwear</td>\n",
       "      <td>Shirts</td>\n",
       "      <td>Navy Blue</td>\n",
       "      <td>Fall</td>\n",
       "      <td>2011.0</td>\n",
       "      <td>Casual</td>\n",
       "      <td>Turtle Check Men Navy Blue Shirt</td>\n",
       "    </tr>\n",
       "    <tr>\n",
       "      <th>1</th>\n",
       "      <td>39386</td>\n",
       "      <td>Men</td>\n",
       "      <td>Apparel</td>\n",
       "      <td>Bottomwear</td>\n",
       "      <td>Jeans</td>\n",
       "      <td>Blue</td>\n",
       "      <td>Summer</td>\n",
       "      <td>2012.0</td>\n",
       "      <td>Casual</td>\n",
       "      <td>Peter England Men Party Blue Jeans</td>\n",
       "    </tr>\n",
       "    <tr>\n",
       "      <th>2</th>\n",
       "      <td>59263</td>\n",
       "      <td>Women</td>\n",
       "      <td>Accessories</td>\n",
       "      <td>Watches</td>\n",
       "      <td>Watches</td>\n",
       "      <td>Silver</td>\n",
       "      <td>Winter</td>\n",
       "      <td>2016.0</td>\n",
       "      <td>Casual</td>\n",
       "      <td>Titan Women Silver Watch</td>\n",
       "    </tr>\n",
       "    <tr>\n",
       "      <th>3</th>\n",
       "      <td>21379</td>\n",
       "      <td>Men</td>\n",
       "      <td>Apparel</td>\n",
       "      <td>Bottomwear</td>\n",
       "      <td>Track Pants</td>\n",
       "      <td>Black</td>\n",
       "      <td>Fall</td>\n",
       "      <td>2011.0</td>\n",
       "      <td>Casual</td>\n",
       "      <td>Manchester United Men Solid Black Track Pants</td>\n",
       "    </tr>\n",
       "    <tr>\n",
       "      <th>4</th>\n",
       "      <td>53759</td>\n",
       "      <td>Men</td>\n",
       "      <td>Apparel</td>\n",
       "      <td>Topwear</td>\n",
       "      <td>Tshirts</td>\n",
       "      <td>Grey</td>\n",
       "      <td>Summer</td>\n",
       "      <td>2012.0</td>\n",
       "      <td>Casual</td>\n",
       "      <td>Puma Men Grey T-shirt</td>\n",
       "    </tr>\n",
       "  </tbody>\n",
       "</table>\n",
       "</div>"
      ],
      "text/plain": [
       "      id gender masterCategory subCategory  articleType baseColour  season  \\\n",
       "0  15970    Men        Apparel     Topwear       Shirts  Navy Blue    Fall   \n",
       "1  39386    Men        Apparel  Bottomwear        Jeans       Blue  Summer   \n",
       "2  59263  Women    Accessories     Watches      Watches     Silver  Winter   \n",
       "3  21379    Men        Apparel  Bottomwear  Track Pants      Black    Fall   \n",
       "4  53759    Men        Apparel     Topwear      Tshirts       Grey  Summer   \n",
       "\n",
       "     year   usage                             productDisplayName  \n",
       "0  2011.0  Casual               Turtle Check Men Navy Blue Shirt  \n",
       "1  2012.0  Casual             Peter England Men Party Blue Jeans  \n",
       "2  2016.0  Casual                       Titan Women Silver Watch  \n",
       "3  2011.0  Casual  Manchester United Men Solid Black Track Pants  \n",
       "4  2012.0  Casual                          Puma Men Grey T-shirt  "
      ]
     },
     "execution_count": 5,
     "metadata": {},
     "output_type": "execute_result"
    }
   ],
   "source": [
    "allLabels.head()"
   ]
  },
  {
   "cell_type": "code",
   "execution_count": 7,
   "metadata": {
    "ExecuteTime": {
     "end_time": "2019-06-11T08:24:28.825449Z",
     "start_time": "2019-06-11T08:24:28.698983Z"
    }
   },
   "outputs": [
    {
     "data": {
      "text/plain": [
       "array(['Bottomwear', 'Topwear', 'Shoes', 'Sandal', 'Flip Flops',\n",
       "       'Watches', 'Bags', 'Belts', 'Dress', 'Headwear', 'Innerwear',\n",
       "       'Scarves', 'Ties', 'Free Gifts', 'Socks', 'Wallets',\n",
       "       'Shoe Accessories', 'Stoles', 'Apparel Set', 'Mufflers',\n",
       "       'Loungewear and Nightwear', 'Cufflinks', 'Jewellery', 'Umbrellas',\n",
       "       'Eyewear', 'Sports Equipment', 'Water Bottle', 'Accessories',\n",
       "       'Fragrance', 'Gloves', 'Perfumes', 'Saree', 'Bath and Body',\n",
       "       'Vouchers', 'Nails', 'Eyes', 'Lips', 'Makeup',\n",
       "       'Sports Accessories', 'Skin Care', 'Skin', 'Beauty Accessories',\n",
       "       'Hair', 'Wristbands'], dtype=object)"
      ]
     },
     "execution_count": 7,
     "metadata": {},
     "output_type": "execute_result"
    }
   ],
   "source": [
    "allImgNames = !ls {dataPath}\n",
    "allImgNames = pd.DataFrame(allImgNames, columns=['fileName'])\n",
    "allImgNames = pd.DataFrame(allImgNames.fileName.str.split('.').tolist(), columns=['fileName','extension'], dtype=np.int64)\n",
    "availableLabels = pd.merge(allImgNames, allLabels, left_on='fileName', right_on='id')\n",
    "pd.unique(availableLabels.subCategory)"
   ]
  },
  {
   "cell_type": "code",
   "execution_count": 8,
   "metadata": {
    "ExecuteTime": {
     "end_time": "2019-06-11T08:24:53.666524Z",
     "start_time": "2019-06-11T08:24:53.607781Z"
    }
   },
   "outputs": [],
   "source": [
    "# get useable category\n",
    "subCategorySummary = availableLabels.groupby('subCategory').count().reset_index()\n",
    "subCategorySummary = subCategorySummary[['subCategory','fileName']]\n",
    "useSubCategory = subCategorySummary[subCategorySummary['fileName'] > 500]['subCategory']"
   ]
  },
  {
   "cell_type": "code",
   "execution_count": 10,
   "metadata": {
    "ExecuteTime": {
     "end_time": "2019-06-11T08:26:48.807036Z",
     "start_time": "2019-06-11T08:26:48.703912Z"
    }
   },
   "outputs": [
    {
     "data": {
      "text/html": [
       "<div>\n",
       "<style scoped>\n",
       "    .dataframe tbody tr th:only-of-type {\n",
       "        vertical-align: middle;\n",
       "    }\n",
       "\n",
       "    .dataframe tbody tr th {\n",
       "        vertical-align: top;\n",
       "    }\n",
       "\n",
       "    .dataframe thead th {\n",
       "        text-align: right;\n",
       "    }\n",
       "</style>\n",
       "<table border=\"1\" class=\"dataframe\">\n",
       "  <thead>\n",
       "    <tr style=\"text-align: right;\">\n",
       "      <th></th>\n",
       "      <th>fileName</th>\n",
       "      <th>subCategory</th>\n",
       "      <th>path</th>\n",
       "      <th>ext</th>\n",
       "      <th>fullPath</th>\n",
       "    </tr>\n",
       "  </thead>\n",
       "  <tbody>\n",
       "    <tr>\n",
       "      <th>0</th>\n",
       "      <td>10004</td>\n",
       "      <td>Bottomwear</td>\n",
       "      <td>./img/fashionDataset/224/</td>\n",
       "      <td>.jpg</td>\n",
       "      <td>./img/fashionDataset/224/10004.jpg</td>\n",
       "    </tr>\n",
       "    <tr>\n",
       "      <th>1</th>\n",
       "      <td>10005</td>\n",
       "      <td>Topwear</td>\n",
       "      <td>./img/fashionDataset/224/</td>\n",
       "      <td>.jpg</td>\n",
       "      <td>./img/fashionDataset/224/10005.jpg</td>\n",
       "    </tr>\n",
       "    <tr>\n",
       "      <th>2</th>\n",
       "      <td>10008</td>\n",
       "      <td>Topwear</td>\n",
       "      <td>./img/fashionDataset/224/</td>\n",
       "      <td>.jpg</td>\n",
       "      <td>./img/fashionDataset/224/10008.jpg</td>\n",
       "    </tr>\n",
       "    <tr>\n",
       "      <th>3</th>\n",
       "      <td>10009</td>\n",
       "      <td>Topwear</td>\n",
       "      <td>./img/fashionDataset/224/</td>\n",
       "      <td>.jpg</td>\n",
       "      <td>./img/fashionDataset/224/10009.jpg</td>\n",
       "    </tr>\n",
       "    <tr>\n",
       "      <th>4</th>\n",
       "      <td>10010</td>\n",
       "      <td>Topwear</td>\n",
       "      <td>./img/fashionDataset/224/</td>\n",
       "      <td>.jpg</td>\n",
       "      <td>./img/fashionDataset/224/10010.jpg</td>\n",
       "    </tr>\n",
       "  </tbody>\n",
       "</table>\n",
       "</div>"
      ],
      "text/plain": [
       "  fileName subCategory                       path   ext  \\\n",
       "0    10004  Bottomwear  ./img/fashionDataset/224/  .jpg   \n",
       "1    10005     Topwear  ./img/fashionDataset/224/  .jpg   \n",
       "2    10008     Topwear  ./img/fashionDataset/224/  .jpg   \n",
       "3    10009     Topwear  ./img/fashionDataset/224/  .jpg   \n",
       "4    10010     Topwear  ./img/fashionDataset/224/  .jpg   \n",
       "\n",
       "                             fullPath  \n",
       "0  ./img/fashionDataset/224/10004.jpg  \n",
       "1  ./img/fashionDataset/224/10005.jpg  \n",
       "2  ./img/fashionDataset/224/10008.jpg  \n",
       "3  ./img/fashionDataset/224/10009.jpg  \n",
       "4  ./img/fashionDataset/224/10010.jpg  "
      ]
     },
     "execution_count": 10,
     "metadata": {},
     "output_type": "execute_result"
    }
   ],
   "source": [
    "# make fileName label map\n",
    "dataset = availableLabels[availableLabels['subCategory'].isin(list(useSubCategory))][['fileName','subCategory']]\n",
    "dataset['path'] = dataPath\n",
    "dataset['ext'] = '.jpg'\n",
    "dataset = dataset.astype(str)\n",
    "dataset['fullPath'] = dataset['path'] + dataset['fileName'] + dataset['ext']\n",
    "dataset.head()"
   ]
  },
  {
   "cell_type": "code",
   "execution_count": 11,
   "metadata": {
    "ExecuteTime": {
     "end_time": "2019-06-11T08:27:37.061965Z",
     "start_time": "2019-06-11T08:27:37.047050Z"
    }
   },
   "outputs": [
    {
     "data": {
      "text/html": [
       "<div>\n",
       "<style scoped>\n",
       "    .dataframe tbody tr th:only-of-type {\n",
       "        vertical-align: middle;\n",
       "    }\n",
       "\n",
       "    .dataframe tbody tr th {\n",
       "        vertical-align: top;\n",
       "    }\n",
       "\n",
       "    .dataframe thead th {\n",
       "        text-align: right;\n",
       "    }\n",
       "</style>\n",
       "<table border=\"1\" class=\"dataframe\">\n",
       "  <thead>\n",
       "    <tr style=\"text-align: right;\">\n",
       "      <th></th>\n",
       "      <th>label</th>\n",
       "      <th>subCategory</th>\n",
       "    </tr>\n",
       "  </thead>\n",
       "  <tbody>\n",
       "    <tr>\n",
       "      <th>0</th>\n",
       "      <td>0</td>\n",
       "      <td>Bottomwear</td>\n",
       "    </tr>\n",
       "    <tr>\n",
       "      <th>1</th>\n",
       "      <td>1</td>\n",
       "      <td>Topwear</td>\n",
       "    </tr>\n",
       "    <tr>\n",
       "      <th>2</th>\n",
       "      <td>2</td>\n",
       "      <td>Shoes</td>\n",
       "    </tr>\n",
       "    <tr>\n",
       "      <th>3</th>\n",
       "      <td>3</td>\n",
       "      <td>Sandal</td>\n",
       "    </tr>\n",
       "    <tr>\n",
       "      <th>4</th>\n",
       "      <td>4</td>\n",
       "      <td>Flip Flops</td>\n",
       "    </tr>\n",
       "    <tr>\n",
       "      <th>5</th>\n",
       "      <td>5</td>\n",
       "      <td>Watches</td>\n",
       "    </tr>\n",
       "    <tr>\n",
       "      <th>6</th>\n",
       "      <td>6</td>\n",
       "      <td>Bags</td>\n",
       "    </tr>\n",
       "    <tr>\n",
       "      <th>7</th>\n",
       "      <td>7</td>\n",
       "      <td>Belts</td>\n",
       "    </tr>\n",
       "    <tr>\n",
       "      <th>8</th>\n",
       "      <td>8</td>\n",
       "      <td>Innerwear</td>\n",
       "    </tr>\n",
       "    <tr>\n",
       "      <th>9</th>\n",
       "      <td>9</td>\n",
       "      <td>Wallets</td>\n",
       "    </tr>\n",
       "    <tr>\n",
       "      <th>10</th>\n",
       "      <td>10</td>\n",
       "      <td>Jewellery</td>\n",
       "    </tr>\n",
       "    <tr>\n",
       "      <th>11</th>\n",
       "      <td>11</td>\n",
       "      <td>Eyewear</td>\n",
       "    </tr>\n",
       "    <tr>\n",
       "      <th>12</th>\n",
       "      <td>12</td>\n",
       "      <td>Fragrance</td>\n",
       "    </tr>\n",
       "  </tbody>\n",
       "</table>\n",
       "</div>"
      ],
      "text/plain": [
       "    label subCategory\n",
       "0       0  Bottomwear\n",
       "1       1     Topwear\n",
       "2       2       Shoes\n",
       "3       3      Sandal\n",
       "4       4  Flip Flops\n",
       "5       5     Watches\n",
       "6       6        Bags\n",
       "7       7       Belts\n",
       "8       8   Innerwear\n",
       "9       9     Wallets\n",
       "10     10   Jewellery\n",
       "11     11     Eyewear\n",
       "12     12   Fragrance"
      ]
     },
     "execution_count": 11,
     "metadata": {},
     "output_type": "execute_result"
    }
   ],
   "source": [
    "# change label to number\n",
    "labelMap = pd.DataFrame(pd.unique(dataset.subCategory)).reset_index()\n",
    "labelMap.columns = ['label', 'subCategory']\n",
    "labelMap"
   ]
  },
  {
   "cell_type": "code",
   "execution_count": 12,
   "metadata": {
    "ExecuteTime": {
     "end_time": "2019-06-11T08:27:59.951037Z",
     "start_time": "2019-06-11T08:27:59.814155Z"
    }
   },
   "outputs": [],
   "source": [
    "# save csv\n",
    "dataset = pd.merge(dataset, labelMap, on='subCategory')\n",
    "dataset[['fullPath','label']].to_csv(datasetCsv, index=False)"
   ]
  },
  {
   "cell_type": "markdown",
   "metadata": {},
   "source": [
    "# Make TFRecord"
   ]
  },
  {
   "cell_type": "code",
   "execution_count": 14,
   "metadata": {
    "ExecuteTime": {
     "end_time": "2019-06-11T08:30:52.263253Z",
     "start_time": "2019-06-11T08:30:52.249630Z"
    }
   },
   "outputs": [],
   "source": [
    "import tensorflow as tf\n",
    "import pandas as pd\n",
    "from PIL import Image\n",
    "import numpy as np\n",
    "from tqdm import tqdm_notebook as tqdm"
   ]
  },
  {
   "cell_type": "code",
   "execution_count": 15,
   "metadata": {
    "ExecuteTime": {
     "end_time": "2019-06-11T08:32:26.051713Z",
     "start_time": "2019-06-11T08:32:26.044052Z"
    }
   },
   "outputs": [],
   "source": [
    "tfrecordPath = './img/fashionDataset/tfrecord/'\n",
    "tfrecordFilePath = '{}dataset224.tfrecord'.format(tfrecordPath)"
   ]
  },
  {
   "cell_type": "code",
   "execution_count": 16,
   "metadata": {
    "ExecuteTime": {
     "end_time": "2019-06-11T08:32:32.919235Z",
     "start_time": "2019-06-11T08:32:32.904004Z"
    }
   },
   "outputs": [],
   "source": [
    "def _int64_feature(value):\n",
    "    return tf.train.Feature(int64_list=tf.train.Int64List(value=[value]))\n",
    "\n",
    "def _bytes_feature(value):\n",
    "    return tf.train.Feature(bytes_list=tf.train.BytesList(value=[value]))"
   ]
  },
  {
   "cell_type": "code",
   "execution_count": 17,
   "metadata": {
    "ExecuteTime": {
     "end_time": "2019-06-11T08:32:37.646459Z",
     "start_time": "2019-06-11T08:32:37.596029Z"
    }
   },
   "outputs": [],
   "source": [
    "# shuffle dataset\n",
    "datasetFile = pd.read_csv(datasetCsv)\n",
    "datasetFile = datasetFile.sample(frac=1).reset_index(drop=True)"
   ]
  },
  {
   "cell_type": "code",
   "execution_count": 18,
   "metadata": {
    "ExecuteTime": {
     "end_time": "2019-06-11T08:32:50.268595Z",
     "start_time": "2019-06-11T08:32:50.256268Z"
    }
   },
   "outputs": [],
   "source": [
    "# make writer\n",
    "writer = tf.io.TFRecordWriter(\n",
    "    tfrecordFilePath,\n",
    "    options=tf.io.TFRecordOptions(compression_type=tf.io.TFRecordCompressionType.GZIP)\n",
    ")"
   ]
  },
  {
   "cell_type": "code",
   "execution_count": 19,
   "metadata": {
    "ExecuteTime": {
     "end_time": "2019-06-11T08:33:12.239983Z",
     "start_time": "2019-06-11T08:33:04.995752Z"
    }
   },
   "outputs": [],
   "source": [
    "i = 0\n",
    "for imgPath, label in datasetFile.itertuples(index=False):\n",
    "    fileName = imgPath.split('/')[-1].split('.')[0]\n",
    "    image_raw = open(imgPath, 'rb').read()\n",
    "    example = tf.train.Example(features=tf.train.Features(feature={\n",
    "        'index': _int64_feature(i),\n",
    "        'name': _int64_feature(int(fileName)),\n",
    "        'label': _int64_feature(int(label)),\n",
    "        'image': _bytes_feature(image_raw)\n",
    "        }))\n",
    "    writer.write(example.SerializeToString())\n",
    "    i += 1"
   ]
  },
  {
   "cell_type": "code",
   "execution_count": 20,
   "metadata": {
    "ExecuteTime": {
     "end_time": "2019-06-11T08:33:18.526321Z",
     "start_time": "2019-06-11T08:33:18.507309Z"
    }
   },
   "outputs": [],
   "source": [
    "writer.close()"
   ]
  },
  {
   "cell_type": "markdown",
   "metadata": {},
   "source": [
    "## TFRecord Test "
   ]
  },
  {
   "cell_type": "code",
   "execution_count": 21,
   "metadata": {
    "ExecuteTime": {
     "end_time": "2019-06-11T08:35:31.877856Z",
     "start_time": "2019-06-11T08:35:31.860415Z"
    }
   },
   "outputs": [],
   "source": [
    "def _parse_function(example_proto):\n",
    "    features = { \n",
    "        'index': tf.FixedLenFeature((), tf.int64, default_value=0),\n",
    "        'name': tf.FixedLenFeature((), tf.int64, default_value=0),\n",
    "        'label': tf.FixedLenFeature((), tf.int64, default_value=0),\n",
    "        'image': tf.FixedLenFeature((), tf.string, default_value='')\n",
    "    }\n",
    "    parsed_features = tf.parse_single_example(example_proto, features)\n",
    "    image_decoded = tf.image.decode_jpeg(parsed_features['image'])\n",
    "    return parsed_features['index'], image_decoded, parsed_features['label']"
   ]
  },
  {
   "cell_type": "code",
   "execution_count": 22,
   "metadata": {
    "ExecuteTime": {
     "end_time": "2019-06-11T08:35:50.509883Z",
     "start_time": "2019-06-11T08:35:50.424617Z"
    }
   },
   "outputs": [],
   "source": [
    "dataset = tf.data.TFRecordDataset(tfrecordFilePath, compression_type='GZIP')\n",
    "dataset = dataset.map(_parse_function)\n",
    "dataset = dataset.shuffle(buffer_size=25000, reshuffle_each_iteration=True)\n",
    "dataset = dataset.batch(1)\n",
    "iterator = dataset.make_initializable_iterator()\n",
    "next_element = iterator.get_next()\n",
    "dataset_init_op = iterator.initializer"
   ]
  },
  {
   "cell_type": "code",
   "execution_count": 23,
   "metadata": {
    "ExecuteTime": {
     "end_time": "2019-06-11T08:36:17.723818Z",
     "start_time": "2019-06-11T08:35:58.995091Z"
    }
   },
   "outputs": [],
   "source": [
    "history = []\n",
    "step = 0\n",
    "with tf.Session() as sess:\n",
    "    for epoch in range(1):\n",
    "        sess.run(dataset_init_op)\n",
    "        while True: # tf.errors.OutOfRangeErrorを吐くまでループ\n",
    "            try:\n",
    "                res = sess.run(next_element)\n",
    "                #print(step,res[1])\n",
    "                #print(res[1])\n",
    "                step += 1\n",
    "                history.append([step, res[2], res[0]])\n",
    "            except tf.errors.OutOfRangeError:\n",
    "                break"
   ]
  },
  {
   "cell_type": "code",
   "execution_count": 27,
   "metadata": {
    "ExecuteTime": {
     "end_time": "2019-06-11T08:36:53.278962Z",
     "start_time": "2019-06-11T08:36:52.778637Z"
    }
   },
   "outputs": [
    {
     "data": {
      "text/plain": [
       "<matplotlib.axes._subplots.AxesSubplot at 0x7f64e3dc2c50>"
      ]
     },
     "execution_count": 27,
     "metadata": {},
     "output_type": "execute_result"
    },
    {
     "data": {
      "image/png": "[encoded data removed]",
      "text/plain": [
       "<Figure size 432x288 with 1 Axes>"
      ]
     },
     "metadata": {
      "needs_background": "light"
     },
     "output_type": "display_data"
    }
   ],
   "source": [
    "# check label variation of TFRecord\n",
    "res = pd.DataFrame(np.array(history))\n",
    "res.columns = ['step', 'label','index']\n",
    "res.plot(kind='scatter', x='step', y='label')"
   ]
  },
  {
   "cell_type": "code",
   "execution_count": 28,
   "metadata": {
    "ExecuteTime": {
     "end_time": "2019-06-11T08:36:56.263605Z",
     "start_time": "2019-06-11T08:36:55.789067Z"
    }
   },
   "outputs": [
    {
     "data": {
      "text/plain": [
       "<matplotlib.axes._subplots.AxesSubplot at 0x7f64e3e3fe10>"
      ]
     },
     "execution_count": 28,
     "metadata": {},
     "output_type": "execute_result"
    },
    {
     "data": {
      "image/png": "[encoded data removed]",
      "text/plain": [
       "<Figure size 432x288 with 1 Axes>"
      ]
     },
     "metadata": {
      "needs_background": "light"
     },
     "output_type": "display_data"
    }
   ],
   "source": [
    "# check index variation of TFRecord\n",
    "res.plot(kind='scatter', x='step', y='index')"
   ]
  }
 ],
 "metadata": {
  "kernelspec": {
   "display_name": "Python 3",
   "language": "python",
   "name": "python3"
  },
  "language_info": {
   "codemirror_mode": {
    "name": "ipython",
    "version": 3
   },
   "file_extension": ".py",
   "mimetype": "text/x-python",
   "name": "python",
   "nbconvert_exporter": "python",
   "pygments_lexer": "ipython3",
   "version": "3.5.2"
  }
 },
 "nbformat": 4,
 "nbformat_minor": 2
}
