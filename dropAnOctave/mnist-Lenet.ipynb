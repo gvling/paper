{
 "cells": [
  {
   "cell_type": "code",
   "execution_count": 1,
   "metadata": {
    "ExecuteTime": {
     "end_time": "2019-06-18T07:48:35.909580Z",
     "start_time": "2019-06-18T07:48:27.340297Z"
    }
   },
   "outputs": [],
   "source": [
    "import tensorflow as tf\n",
    "import pandas as pd\n",
    "import numpy as np\n",
    "\n",
    "from datetime import datetime, timedelta, timezone\n",
    "\n",
    "import sys\n",
    "sys.path.append('../')\n",
    "from utils import data\n",
    "from models.lenet import Lenet as Lenet\n",
    "from utils.visualization import *\n",
    "\n",
    "from tensorflow.examples.tutorials.mnist import input_data"
   ]
  },
  {
   "cell_type": "code",
   "execution_count": 2,
   "metadata": {
    "ExecuteTime": {
     "end_time": "2019-06-18T07:48:36.481533Z",
     "start_time": "2019-06-18T07:48:35.911523Z"
    },
    "scrolled": true
   },
   "outputs": [
    {
     "name": "stdout",
     "output_type": "stream",
     "text": [
      "WARNING:tensorflow:From <ipython-input-2-ca1bfcc25bde>:22: read_data_sets (from tensorflow.contrib.learn.python.learn.datasets.mnist) is deprecated and will be removed in a future version.\n",
      "Instructions for updating:\n",
      "Please use alternatives such as official/mnist/dataset.py from tensorflow/models.\n",
      "WARNING:tensorflow:From /usr/local/lib/python3.5/dist-packages/tensorflow/contrib/learn/python/learn/datasets/mnist.py:260: maybe_download (from tensorflow.contrib.learn.python.learn.datasets.base) is deprecated and will be removed in a future version.\n",
      "Instructions for updating:\n",
      "Please write your own downloading logic.\n",
      "WARNING:tensorflow:From /usr/local/lib/python3.5/dist-packages/tensorflow/contrib/learn/python/learn/datasets/mnist.py:262: extract_images (from tensorflow.contrib.learn.python.learn.datasets.mnist) is deprecated and will be removed in a future version.\n",
      "Instructions for updating:\n",
      "Please use tf.data to implement this functionality.\n",
      "Extracting data/train-images-idx3-ubyte.gz\n",
      "WARNING:tensorflow:From /usr/local/lib/python3.5/dist-packages/tensorflow/contrib/learn/python/learn/datasets/mnist.py:267: extract_labels (from tensorflow.contrib.learn.python.learn.datasets.mnist) is deprecated and will be removed in a future version.\n",
      "Instructions for updating:\n",
      "Please use tf.data to implement this functionality.\n",
      "Extracting data/train-labels-idx1-ubyte.gz\n",
      "WARNING:tensorflow:From /usr/local/lib/python3.5/dist-packages/tensorflow/contrib/learn/python/learn/datasets/mnist.py:110: dense_to_one_hot (from tensorflow.contrib.learn.python.learn.datasets.mnist) is deprecated and will be removed in a future version.\n",
      "Instructions for updating:\n",
      "Please use tf.one_hot on tensors.\n",
      "Extracting data/t10k-images-idx3-ubyte.gz\n",
      "Extracting data/t10k-labels-idx1-ubyte.gz\n",
      "WARNING:tensorflow:From /usr/local/lib/python3.5/dist-packages/tensorflow/contrib/learn/python/learn/datasets/mnist.py:290: DataSet.__init__ (from tensorflow.contrib.learn.python.learn.datasets.mnist) is deprecated and will be removed in a future version.\n",
      "Instructions for updating:\n",
      "Please use alternatives such as official/mnist/dataset.py from tensorflow/models.\n"
     ]
    }
   ],
   "source": [
    "bn = False\n",
    "# const\n",
    "taskName = 'mnist'\n",
    "modelName = 'lenet{}'.format('_bn' if bn else '')\n",
    "JST = timezone(timedelta(hours=+9), 'JST')\n",
    "now = datetime.now(JST)\n",
    "nowStr = now.strftime(\"%Y%m%d_%H%M%S\")\n",
    "showImgCount = 10\n",
    "\n",
    "imgHeight = 28\n",
    "imgWidth = 28\n",
    "imgChannel = 1\n",
    "imgShape = [-1, imgHeight, imgWidth, imgChannel]\n",
    "labelSize = 10\n",
    "\n",
    "# hyper parameter\n",
    "bs = 64\n",
    "lr = 0.0001\n",
    "ep = 50\n",
    "\n",
    "logDir = '../logs/{}/{}/{}/'.format(taskName, modelName, nowStr)\n",
    "mnist = input_data.read_data_sets(\"data/\", one_hot=True)\n",
    "checkPointDir = '{}images.ckpt'.format(logDir)"
   ]
  },
  {
   "cell_type": "code",
   "execution_count": 3,
   "metadata": {
    "ExecuteTime": {
     "end_time": "2019-06-18T07:55:02.140481Z",
     "start_time": "2019-06-18T07:48:36.483263Z"
    },
    "code_folding": [],
    "scrolled": true
   },
   "outputs": [
    {
     "name": "stdout",
     "output_type": "stream",
     "text": [
      "Epoch: 0 | Train Accuracy: 0.3268 | Train Loss: 2.2349 | Test Accuracy: 0.5288 | Test Loss: 2.0468\n",
      "Epoch: 1 | Train Accuracy: 0.6462 | Train Loss: 1.9052 | Test Accuracy: 0.6937 | Test Loss: 1.8153\n",
      "Epoch: 2 | Train Accuracy: 0.6997 | Train Loss: 1.7989 | Test Accuracy: 0.7222 | Test Loss: 1.7667\n",
      "Epoch: 3 | Train Accuracy: 0.7173 | Train Loss: 1.7665 | Test Accuracy: 0.7324 | Test Loss: 1.7476\n",
      "Epoch: 4 | Train Accuracy: 0.7264 | Train Loss: 1.7496 | Test Accuracy: 0.7410 | Test Loss: 1.7325\n",
      "Epoch: 5 | Train Accuracy: 0.7321 | Train Loss: 1.7391 | Test Accuracy: 0.7476 | Test Loss: 1.7219\n",
      "Epoch: 6 | Train Accuracy: 0.7371 | Train Loss: 1.7320 | Test Accuracy: 0.7514 | Test Loss: 1.7178\n",
      "Epoch: 7 | Train Accuracy: 0.7404 | Train Loss: 1.7266 | Test Accuracy: 0.7546 | Test Loss: 1.7131\n",
      "Epoch: 8 | Train Accuracy: 0.7428 | Train Loss: 1.7227 | Test Accuracy: 0.7556 | Test Loss: 1.7084\n",
      "Epoch: 9 | Train Accuracy: 0.7459 | Train Loss: 1.7191 | Test Accuracy: 0.7620 | Test Loss: 1.7035\n",
      "Epoch: 10 | Train Accuracy: 0.7472 | Train Loss: 1.7164 | Test Accuracy: 0.7622 | Test Loss: 1.7030\n",
      "Epoch: 11 | Train Accuracy: 0.7501 | Train Loss: 1.7136 | Test Accuracy: 0.7626 | Test Loss: 1.7009\n",
      "Epoch: 12 | Train Accuracy: 0.7673 | Train Loss: 1.6984 | Test Accuracy: 0.8221 | Test Loss: 1.6484\n",
      "Epoch: 13 | Train Accuracy: 0.8183 | Train Loss: 1.6508 | Test Accuracy: 0.8315 | Test Loss: 1.6381\n",
      "Epoch: 14 | Train Accuracy: 0.8256 | Train Loss: 1.6422 | Test Accuracy: 0.8385 | Test Loss: 1.6295\n",
      "Epoch: 15 | Train Accuracy: 0.8300 | Train Loss: 1.6365 | Test Accuracy: 0.8415 | Test Loss: 1.6251\n",
      "Epoch: 16 | Train Accuracy: 0.8329 | Train Loss: 1.6332 | Test Accuracy: 0.8450 | Test Loss: 1.6229\n",
      "Epoch: 17 | Train Accuracy: 0.8368 | Train Loss: 1.6290 | Test Accuracy: 0.8682 | Test Loss: 1.5994\n",
      "Epoch: 18 | Train Accuracy: 0.8862 | Train Loss: 1.5860 | Test Accuracy: 0.9077 | Test Loss: 1.5633\n",
      "Epoch: 19 | Train Accuracy: 0.9037 | Train Loss: 1.5674 | Test Accuracy: 0.9131 | Test Loss: 1.5561\n",
      "Epoch: 20 | Train Accuracy: 0.9094 | Train Loss: 1.5605 | Test Accuracy: 0.9197 | Test Loss: 1.5494\n",
      "Epoch: 21 | Train Accuracy: 0.9127 | Train Loss: 1.5558 | Test Accuracy: 0.9215 | Test Loss: 1.5462\n",
      "Epoch: 22 | Train Accuracy: 0.9156 | Train Loss: 1.5523 | Test Accuracy: 0.9237 | Test Loss: 1.5413\n",
      "Epoch: 23 | Train Accuracy: 0.9180 | Train Loss: 1.5493 | Test Accuracy: 0.9243 | Test Loss: 1.5419\n",
      "Epoch: 24 | Train Accuracy: 0.9204 | Train Loss: 1.5461 | Test Accuracy: 0.9293 | Test Loss: 1.5366\n",
      "Epoch: 25 | Train Accuracy: 0.9225 | Train Loss: 1.5439 | Test Accuracy: 0.9305 | Test Loss: 1.5346\n",
      "Epoch: 26 | Train Accuracy: 0.9256 | Train Loss: 1.5410 | Test Accuracy: 0.9311 | Test Loss: 1.5331\n",
      "Epoch: 27 | Train Accuracy: 0.9273 | Train Loss: 1.5388 | Test Accuracy: 0.9331 | Test Loss: 1.5317\n",
      "Epoch: 28 | Train Accuracy: 0.9302 | Train Loss: 1.5361 | Test Accuracy: 0.9373 | Test Loss: 1.5279\n",
      "Epoch: 29 | Train Accuracy: 0.9314 | Train Loss: 1.5347 | Test Accuracy: 0.9369 | Test Loss: 1.5272\n",
      "Epoch: 30 | Train Accuracy: 0.9335 | Train Loss: 1.5324 | Test Accuracy: 0.9411 | Test Loss: 1.5241\n",
      "Epoch: 31 | Train Accuracy: 0.9356 | Train Loss: 1.5305 | Test Accuracy: 0.9411 | Test Loss: 1.5246\n",
      "Epoch: 32 | Train Accuracy: 0.9365 | Train Loss: 1.5289 | Test Accuracy: 0.9435 | Test Loss: 1.5211\n",
      "Epoch: 33 | Train Accuracy: 0.9380 | Train Loss: 1.5273 | Test Accuracy: 0.9463 | Test Loss: 1.5196\n",
      "Epoch: 34 | Train Accuracy: 0.9394 | Train Loss: 1.5256 | Test Accuracy: 0.9463 | Test Loss: 1.5197\n",
      "Epoch: 35 | Train Accuracy: 0.9405 | Train Loss: 1.5246 | Test Accuracy: 0.9459 | Test Loss: 1.5177\n",
      "Epoch: 36 | Train Accuracy: 0.9422 | Train Loss: 1.5228 | Test Accuracy: 0.9489 | Test Loss: 1.5158\n",
      "Epoch: 37 | Train Accuracy: 0.9440 | Train Loss: 1.5212 | Test Accuracy: 0.9497 | Test Loss: 1.5140\n",
      "Epoch: 38 | Train Accuracy: 0.9453 | Train Loss: 1.5199 | Test Accuracy: 0.9499 | Test Loss: 1.5143\n",
      "Epoch: 39 | Train Accuracy: 0.9456 | Train Loss: 1.5193 | Test Accuracy: 0.9521 | Test Loss: 1.5102\n",
      "Epoch: 40 | Train Accuracy: 0.9468 | Train Loss: 1.5177 | Test Accuracy: 0.9537 | Test Loss: 1.5113\n",
      "Epoch: 41 | Train Accuracy: 0.9479 | Train Loss: 1.5167 | Test Accuracy: 0.9531 | Test Loss: 1.5113\n",
      "Epoch: 42 | Train Accuracy: 0.9493 | Train Loss: 1.5153 | Test Accuracy: 0.9547 | Test Loss: 1.5094\n",
      "Epoch: 43 | Train Accuracy: 0.9501 | Train Loss: 1.5142 | Test Accuracy: 0.9573 | Test Loss: 1.5076\n",
      "Epoch: 44 | Train Accuracy: 0.9510 | Train Loss: 1.5134 | Test Accuracy: 0.9545 | Test Loss: 1.5091\n",
      "Epoch: 45 | Train Accuracy: 0.9520 | Train Loss: 1.5122 | Test Accuracy: 0.9575 | Test Loss: 1.5068\n",
      "Epoch: 46 | Train Accuracy: 0.9524 | Train Loss: 1.5115 | Test Accuracy: 0.9605 | Test Loss: 1.5039\n",
      "Epoch: 47 | Train Accuracy: 0.9537 | Train Loss: 1.5106 | Test Accuracy: 0.9565 | Test Loss: 1.5069\n",
      "Epoch: 48 | Train Accuracy: 0.9552 | Train Loss: 1.5093 | Test Accuracy: 0.9615 | Test Loss: 1.5028\n",
      "Epoch: 49 | Train Accuracy: 0.9549 | Train Loss: 1.5089 | Test Accuracy: 0.9583 | Test Loss: 1.5044\n"
     ]
    }
   ],
   "source": [
    "# main\n",
    "with tf.Graph().as_default():\n",
    "    trainIteration = mnist.train.num_examples // bs\n",
    "    testIteration = mnist.validation.num_examples // bs\n",
    "    x = tf.placeholder(\"float\", [None, imgHeight * imgWidth * imgChannel], name='x')\n",
    "    y = tf.placeholder(\"float\", [None, labelSize], name='label')\n",
    "    isTrain = tf.placeholder(tf.bool, name='is_train')\n",
    "    \n",
    "    network = Lenet(x, inputReshapeTo=imgShape, labelSize=labelSize, batchNorm=bn, visualization=True)\n",
    "    _ = network.inference(isTrain)\n",
    "    cost = network.loss(y)\n",
    "    optimizer = tf.train.AdamOptimizer(lr)\n",
    "    accuracy = network.accuracy(y)\n",
    "    trainOp = network.training(cost, optimizer)\n",
    "    drawHist = tf.summary.merge_all('histogram')\n",
    "\n",
    "    # tensor board\n",
    "    # TODO: draw hist\n",
    "#    allVariables = tf.get_collection(tf.GraphKeys.GLOBAL_VARIABLES)\n",
    "    \n",
    "    saver = tf.train.Saver()\n",
    "    config = tf.ConfigProto(gpu_options=tf.GPUOptions(allow_growth=True))\n",
    "    sess = tf.Session(config=config)\n",
    "    summaryWriter = tf.summary.FileWriter(logDir, graph=sess.graph)\n",
    "\n",
    "    sess.run(tf.global_variables_initializer())\n",
    "\n",
    "    # Training cycle\n",
    "    for e in range(ep):\n",
    "        trainAvgAcc = trainAvgLoss = testAvgAcc = testAvgLoss = 0.\n",
    "        # train\n",
    "        #sess.run(trainIteratorInitOp)\n",
    "        for i in range(trainIteration):\n",
    "            batchX, batchY = mnist.train.next_batch(bs)\n",
    "            _, l, a, histogram = sess.run([trainOp, cost, accuracy, drawHist], feed_dict={x: batchX, y: batchY, isTrain: True})\n",
    "            trainAvgAcc += a / trainIteration\n",
    "            trainAvgLoss += l / trainIteration\n",
    "\n",
    "        # validation\n",
    "        for i in range(testIteration):\n",
    "            testBatchX, testBatchY = mnist.validation.next_batch(bs)\n",
    "            l, a = sess.run([cost, accuracy], feed_dict={x: testBatchX, y: testBatchY, isTrain: False})\n",
    "            testAvgAcc += a / testIteration\n",
    "            testAvgLoss += l / testIteration\n",
    "\n",
    "        # tensorBoard\n",
    "        summaryWriter.add_summary(drawSclar('validation', {'acc': testAvgAcc, 'loss': testAvgLoss}), global_step=e)\n",
    "        summaryWriter.add_summary(drawSclar('train', {'acc': trainAvgAcc, 'loss': trainAvgLoss}), global_step=e)\n",
    "        summaryWriter.add_summary(histogram, global_step=e)\n",
    "        saver.save(sess, checkPointDir, global_step=e)\n",
    "        print('Epoch: {} | Train Accuracy: {:.4f} | Train Loss: {:.4f} | Test Accuracy: {:.4f} | Test Loss: {:.4f}'.format(e, trainAvgAcc, trainAvgLoss, testAvgAcc, testAvgLoss))\n",
    "    summaryWriter.close()\n",
    "    sess.close()"
   ]
  },
  {
   "cell_type": "code",
   "execution_count": null,
   "metadata": {},
   "outputs": [],
   "source": []
  }
 ],
 "metadata": {
  "kernelspec": {
   "display_name": "Python 3",
   "language": "python",
   "name": "python3"
  },
  "language_info": {
   "codemirror_mode": {
    "name": "ipython",
    "version": 3
   },
   "file_extension": ".py",
   "mimetype": "text/x-python",
   "name": "python",
   "nbconvert_exporter": "python",
   "pygments_lexer": "ipython3",
   "version": "3.5.2"
  }
 },
 "nbformat": 4,
 "nbformat_minor": 2
}
