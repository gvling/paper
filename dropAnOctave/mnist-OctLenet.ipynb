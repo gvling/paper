{
 "cells": [
  {
   "cell_type": "code",
   "execution_count": 1,
   "metadata": {
    "ExecuteTime": {
     "end_time": "2019-06-19T04:23:23.289043Z",
     "start_time": "2019-06-19T04:23:16.410623Z"
    }
   },
   "outputs": [],
   "source": [
    "import tensorflow as tf\n",
    "import pandas as pd\n",
    "import numpy as np\n",
    "\n",
    "from datetime import datetime, timedelta, timezone\n",
    "\n",
    "import sys\n",
    "sys.path.append('../')\n",
    "from utils import data\n",
    "from models.lenet import OctLenet as Lenet\n",
    "from utils.visualization import *\n",
    "\n",
    "from tensorflow.examples.tutorials.mnist import input_data"
   ]
  },
  {
   "cell_type": "code",
   "execution_count": 2,
   "metadata": {
    "ExecuteTime": {
     "end_time": "2019-06-19T04:23:23.909282Z",
     "start_time": "2019-06-19T04:23:23.291185Z"
    },
    "scrolled": true
   },
   "outputs": [
    {
     "name": "stdout",
     "output_type": "stream",
     "text": [
      "WARNING:tensorflow:From <ipython-input-2-b5885f683e0d>:23: read_data_sets (from tensorflow.contrib.learn.python.learn.datasets.mnist) is deprecated and will be removed in a future version.\n",
      "Instructions for updating:\n",
      "Please use alternatives such as official/mnist/dataset.py from tensorflow/models.\n",
      "WARNING:tensorflow:From /usr/local/lib/python3.5/dist-packages/tensorflow/contrib/learn/python/learn/datasets/mnist.py:260: maybe_download (from tensorflow.contrib.learn.python.learn.datasets.base) is deprecated and will be removed in a future version.\n",
      "Instructions for updating:\n",
      "Please write your own downloading logic.\n",
      "WARNING:tensorflow:From /usr/local/lib/python3.5/dist-packages/tensorflow/contrib/learn/python/learn/datasets/mnist.py:262: extract_images (from tensorflow.contrib.learn.python.learn.datasets.mnist) is deprecated and will be removed in a future version.\n",
      "Instructions for updating:\n",
      "Please use tf.data to implement this functionality.\n",
      "Extracting data/train-images-idx3-ubyte.gz\n",
      "WARNING:tensorflow:From /usr/local/lib/python3.5/dist-packages/tensorflow/contrib/learn/python/learn/datasets/mnist.py:267: extract_labels (from tensorflow.contrib.learn.python.learn.datasets.mnist) is deprecated and will be removed in a future version.\n",
      "Instructions for updating:\n",
      "Please use tf.data to implement this functionality.\n",
      "Extracting data/train-labels-idx1-ubyte.gz\n",
      "WARNING:tensorflow:From /usr/local/lib/python3.5/dist-packages/tensorflow/contrib/learn/python/learn/datasets/mnist.py:110: dense_to_one_hot (from tensorflow.contrib.learn.python.learn.datasets.mnist) is deprecated and will be removed in a future version.\n",
      "Instructions for updating:\n",
      "Please use tf.one_hot on tensors.\n",
      "Extracting data/t10k-images-idx3-ubyte.gz\n",
      "Extracting data/t10k-labels-idx1-ubyte.gz\n",
      "WARNING:tensorflow:From /usr/local/lib/python3.5/dist-packages/tensorflow/contrib/learn/python/learn/datasets/mnist.py:290: DataSet.__init__ (from tensorflow.contrib.learn.python.learn.datasets.mnist) is deprecated and will be removed in a future version.\n",
      "Instructions for updating:\n",
      "Please use alternatives such as official/mnist/dataset.py from tensorflow/models.\n"
     ]
    }
   ],
   "source": [
    "bn = False\n",
    "# const\n",
    "taskName = 'mnist'\n",
    "modelName = 'octLenet{}'.format('_bn' if bn else '')\n",
    "JST = timezone(timedelta(hours=+9), 'JST')\n",
    "now = datetime.now(JST)\n",
    "nowStr = now.strftime(\"%Y%m%d_%H%M%S\")\n",
    "showImgCount = 10\n",
    "\n",
    "imgHeight = 28\n",
    "imgWidth = 28\n",
    "imgChannel = 1\n",
    "imgShape = [-1, imgHeight, imgWidth, imgChannel]\n",
    "labelSize = 10\n",
    "\n",
    "# hyper parameter\n",
    "bs = 64\n",
    "lr = 0.0001\n",
    "ep = 50\n",
    "alpha = 0.25\n",
    "\n",
    "logDir = '../logs/{}/{}/{}/'.format(taskName, modelName, nowStr)\n",
    "mnist = input_data.read_data_sets(\"data/\", one_hot=True)\n",
    "checkPointDir = '{}images.ckpt'.format(logDir)"
   ]
  },
  {
   "cell_type": "code",
   "execution_count": 3,
   "metadata": {
    "ExecuteTime": {
     "end_time": "2019-06-19T04:29:27.077683Z",
     "start_time": "2019-06-19T04:23:23.910754Z"
    },
    "code_folding": [],
    "scrolled": true
   },
   "outputs": [
    {
     "name": "stdout",
     "output_type": "stream",
     "text": [
      "Epoch: 0 | Train Accuracy: 0.2260 | Train Loss: 2.2601 | Test Accuracy: 0.3626 | Test Loss: 2.1539\n",
      "Epoch: 1 | Train Accuracy: 0.5662 | Train Loss: 1.9996 | Test Accuracy: 0.6771 | Test Loss: 1.8570\n",
      "Epoch: 2 | Train Accuracy: 0.7386 | Train Loss: 1.7958 | Test Accuracy: 0.7756 | Test Loss: 1.7412\n",
      "Epoch: 3 | Train Accuracy: 0.7782 | Train Loss: 1.7272 | Test Accuracy: 0.7957 | Test Loss: 1.7007\n",
      "Epoch: 4 | Train Accuracy: 0.7921 | Train Loss: 1.6975 | Test Accuracy: 0.8027 | Test Loss: 1.6793\n",
      "Epoch: 5 | Train Accuracy: 0.8013 | Train Loss: 1.6811 | Test Accuracy: 0.8101 | Test Loss: 1.6656\n",
      "Epoch: 6 | Train Accuracy: 0.8069 | Train Loss: 1.6695 | Test Accuracy: 0.8175 | Test Loss: 1.6580\n",
      "Epoch: 7 | Train Accuracy: 0.8131 | Train Loss: 1.6608 | Test Accuracy: 0.8243 | Test Loss: 1.6484\n",
      "Epoch: 8 | Train Accuracy: 0.8171 | Train Loss: 1.6542 | Test Accuracy: 0.8257 | Test Loss: 1.6436\n",
      "Epoch: 9 | Train Accuracy: 0.8210 | Train Loss: 1.6489 | Test Accuracy: 0.8303 | Test Loss: 1.6378\n",
      "Epoch: 10 | Train Accuracy: 0.8238 | Train Loss: 1.6444 | Test Accuracy: 0.8283 | Test Loss: 1.6381\n",
      "Epoch: 11 | Train Accuracy: 0.8279 | Train Loss: 1.6405 | Test Accuracy: 0.8355 | Test Loss: 1.6312\n",
      "Epoch: 12 | Train Accuracy: 0.8306 | Train Loss: 1.6368 | Test Accuracy: 0.8377 | Test Loss: 1.6277\n",
      "Epoch: 13 | Train Accuracy: 0.8323 | Train Loss: 1.6342 | Test Accuracy: 0.8405 | Test Loss: 1.6255\n",
      "Epoch: 14 | Train Accuracy: 0.8346 | Train Loss: 1.6318 | Test Accuracy: 0.8417 | Test Loss: 1.6221\n",
      "Epoch: 15 | Train Accuracy: 0.8364 | Train Loss: 1.6293 | Test Accuracy: 0.8466 | Test Loss: 1.6187\n",
      "Epoch: 16 | Train Accuracy: 0.8387 | Train Loss: 1.6267 | Test Accuracy: 0.8435 | Test Loss: 1.6203\n",
      "Epoch: 17 | Train Accuracy: 0.8403 | Train Loss: 1.6253 | Test Accuracy: 0.8484 | Test Loss: 1.6171\n",
      "Epoch: 18 | Train Accuracy: 0.8419 | Train Loss: 1.6231 | Test Accuracy: 0.8496 | Test Loss: 1.6153\n",
      "Epoch: 19 | Train Accuracy: 0.8428 | Train Loss: 1.6220 | Test Accuracy: 0.8532 | Test Loss: 1.6111\n",
      "Epoch: 20 | Train Accuracy: 0.8447 | Train Loss: 1.6198 | Test Accuracy: 0.8506 | Test Loss: 1.6128\n",
      "Epoch: 21 | Train Accuracy: 0.8457 | Train Loss: 1.6186 | Test Accuracy: 0.8562 | Test Loss: 1.6078\n",
      "Epoch: 22 | Train Accuracy: 0.8481 | Train Loss: 1.6164 | Test Accuracy: 0.8864 | Test Loss: 1.5838\n",
      "Epoch: 23 | Train Accuracy: 0.8992 | Train Loss: 1.5717 | Test Accuracy: 0.9185 | Test Loss: 1.5519\n",
      "Epoch: 24 | Train Accuracy: 0.9132 | Train Loss: 1.5563 | Test Accuracy: 0.9205 | Test Loss: 1.5463\n",
      "Epoch: 25 | Train Accuracy: 0.9187 | Train Loss: 1.5503 | Test Accuracy: 0.9227 | Test Loss: 1.5449\n",
      "Epoch: 26 | Train Accuracy: 0.9217 | Train Loss: 1.5465 | Test Accuracy: 0.9277 | Test Loss: 1.5371\n",
      "Epoch: 27 | Train Accuracy: 0.9254 | Train Loss: 1.5427 | Test Accuracy: 0.9285 | Test Loss: 1.5365\n",
      "Epoch: 28 | Train Accuracy: 0.9272 | Train Loss: 1.5401 | Test Accuracy: 0.9303 | Test Loss: 1.5350\n",
      "Epoch: 29 | Train Accuracy: 0.9290 | Train Loss: 1.5380 | Test Accuracy: 0.9337 | Test Loss: 1.5308\n",
      "Epoch: 30 | Train Accuracy: 0.9312 | Train Loss: 1.5360 | Test Accuracy: 0.9365 | Test Loss: 1.5293\n",
      "Epoch: 31 | Train Accuracy: 0.9322 | Train Loss: 1.5341 | Test Accuracy: 0.9337 | Test Loss: 1.5295\n",
      "Epoch: 32 | Train Accuracy: 0.9347 | Train Loss: 1.5319 | Test Accuracy: 0.9393 | Test Loss: 1.5252\n",
      "Epoch: 33 | Train Accuracy: 0.9350 | Train Loss: 1.5305 | Test Accuracy: 0.9415 | Test Loss: 1.5239\n",
      "Epoch: 34 | Train Accuracy: 0.9372 | Train Loss: 1.5288 | Test Accuracy: 0.9419 | Test Loss: 1.5220\n",
      "Epoch: 35 | Train Accuracy: 0.9386 | Train Loss: 1.5274 | Test Accuracy: 0.9417 | Test Loss: 1.5221\n",
      "Epoch: 36 | Train Accuracy: 0.9394 | Train Loss: 1.5258 | Test Accuracy: 0.9465 | Test Loss: 1.5189\n",
      "Epoch: 37 | Train Accuracy: 0.9408 | Train Loss: 1.5244 | Test Accuracy: 0.9443 | Test Loss: 1.5191\n",
      "Epoch: 38 | Train Accuracy: 0.9421 | Train Loss: 1.5231 | Test Accuracy: 0.9473 | Test Loss: 1.5171\n",
      "Epoch: 39 | Train Accuracy: 0.9441 | Train Loss: 1.5215 | Test Accuracy: 0.9473 | Test Loss: 1.5156\n",
      "Epoch: 40 | Train Accuracy: 0.9443 | Train Loss: 1.5209 | Test Accuracy: 0.9505 | Test Loss: 1.5147\n",
      "Epoch: 41 | Train Accuracy: 0.9457 | Train Loss: 1.5193 | Test Accuracy: 0.9505 | Test Loss: 1.5138\n",
      "Epoch: 42 | Train Accuracy: 0.9465 | Train Loss: 1.5183 | Test Accuracy: 0.9503 | Test Loss: 1.5123\n",
      "Epoch: 43 | Train Accuracy: 0.9475 | Train Loss: 1.5172 | Test Accuracy: 0.9517 | Test Loss: 1.5118\n",
      "Epoch: 44 | Train Accuracy: 0.9484 | Train Loss: 1.5158 | Test Accuracy: 0.9527 | Test Loss: 1.5115\n",
      "Epoch: 45 | Train Accuracy: 0.9494 | Train Loss: 1.5153 | Test Accuracy: 0.9525 | Test Loss: 1.5109\n",
      "Epoch: 46 | Train Accuracy: 0.9506 | Train Loss: 1.5139 | Test Accuracy: 0.9563 | Test Loss: 1.5082\n",
      "Epoch: 47 | Train Accuracy: 0.9511 | Train Loss: 1.5132 | Test Accuracy: 0.9565 | Test Loss: 1.5068\n",
      "Epoch: 48 | Train Accuracy: 0.9523 | Train Loss: 1.5119 | Test Accuracy: 0.9557 | Test Loss: 1.5075\n",
      "Epoch: 49 | Train Accuracy: 0.9535 | Train Loss: 1.5116 | Test Accuracy: 0.9579 | Test Loss: 1.5046\n"
     ]
    }
   ],
   "source": [
    "# main\n",
    "with tf.Graph().as_default():\n",
    "    trainIteration = mnist.train.num_examples // bs\n",
    "    testIteration = mnist.validation.num_examples // bs\n",
    "    x = tf.placeholder(\"float\", [None, imgHeight * imgWidth * imgChannel], name='x')\n",
    "    y = tf.placeholder(\"float\", [None, labelSize], name='label')\n",
    "    isTrain = tf.placeholder(tf.bool, name='is_train')\n",
    "    \n",
    "    network = Lenet(alpha, x, inputReshapeTo=imgShape, labelSize=labelSize, batchNorm=bn, visualization=True)\n",
    "    _ = network.inference(isTrain)\n",
    "    cost = network.loss(y)\n",
    "    optimizer = tf.train.AdamOptimizer(lr)\n",
    "    accuracy = network.accuracy(y)\n",
    "    trainOp = network.training(cost, optimizer)\n",
    "    drawHist = tf.summary.merge_all('histogram')\n",
    "\n",
    "    # tensor board\n",
    "    # TODO: draw hist\n",
    "#    allVariables = tf.get_collection(tf.GraphKeys.GLOBAL_VARIABLES)\n",
    "    \n",
    "    saver = tf.train.Saver()\n",
    "    config = tf.ConfigProto(gpu_options=tf.GPUOptions(allow_growth=True))\n",
    "    sess = tf.Session(config=config)\n",
    "    summaryWriter = tf.summary.FileWriter(logDir, graph=sess.graph)\n",
    "\n",
    "    sess.run(tf.global_variables_initializer())\n",
    "\n",
    "    # Training cycle\n",
    "    for e in range(ep):\n",
    "        trainAvgAcc = trainAvgLoss = testAvgAcc = testAvgLoss = 0.\n",
    "        # train\n",
    "        #sess.run(trainIteratorInitOp)\n",
    "        for i in range(trainIteration):\n",
    "            batchX, batchY = mnist.train.next_batch(bs)\n",
    "            _, l, a, histogram = sess.run([trainOp, cost, accuracy, drawHist], feed_dict={x: batchX, y: batchY, isTrain: True})\n",
    "            trainAvgAcc += a / trainIteration\n",
    "            trainAvgLoss += l / trainIteration\n",
    "\n",
    "        # validation\n",
    "        for i in range(testIteration):\n",
    "            testBatchX, testBatchY = mnist.validation.next_batch(bs)\n",
    "            l, a = sess.run([cost, accuracy], feed_dict={x: testBatchX, y: testBatchY, isTrain: False})\n",
    "            testAvgAcc += a / testIteration\n",
    "            testAvgLoss += l / testIteration\n",
    "\n",
    "        # tensorBoard\n",
    "        summaryWriter.add_summary(drawSclar('validation', {'acc': testAvgAcc, 'loss': testAvgLoss}), global_step=e)\n",
    "        summaryWriter.add_summary(drawSclar('train', {'acc': trainAvgAcc, 'loss': trainAvgLoss}), global_step=e)\n",
    "        summaryWriter.add_summary(histogram, global_step=e)\n",
    "        saver.save(sess, checkPointDir, global_step=e)\n",
    "        print('Epoch: {} | Train Accuracy: {:.4f} | Train Loss: {:.4f} | Test Accuracy: {:.4f} | Test Loss: {:.4f}'.format(e, trainAvgAcc, trainAvgLoss, testAvgAcc, testAvgLoss))\n",
    "    summaryWriter.close()\n",
    "    sess.close()"
   ]
  },
  {
   "cell_type": "code",
   "execution_count": null,
   "metadata": {},
   "outputs": [],
   "source": []
  }
 ],
 "metadata": {
  "kernelspec": {
   "display_name": "Python 3",
   "language": "python",
   "name": "python3"
  },
  "language_info": {
   "codemirror_mode": {
    "name": "ipython",
    "version": 3
   },
   "file_extension": ".py",
   "mimetype": "text/x-python",
   "name": "python",
   "nbconvert_exporter": "python",
   "pygments_lexer": "ipython3",
   "version": "3.5.2"
  }
 },
 "nbformat": 4,
 "nbformat_minor": 2
}
