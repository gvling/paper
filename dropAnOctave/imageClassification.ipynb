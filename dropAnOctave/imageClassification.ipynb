{
 "cells": [
  {
   "cell_type": "code",
   "execution_count": 1,
   "metadata": {
    "ExecuteTime": {
     "end_time": "2019-06-12T12:41:17.927360Z",
     "start_time": "2019-06-12T12:41:12.432184Z"
    }
   },
   "outputs": [],
   "source": [
    "import tensorflow as tf\n",
    "import pandas as pd\n",
    "import numpy as np\n",
    "\n",
    "from datetime import datetime, timedelta, timezone\n",
    "\n",
    "import sys\n",
    "sys.path.append('../')\n",
    "from utils import data\n",
    "from models.resnet50 import Resnet50\n",
    "from utils import visualization"
   ]
  },
  {
   "cell_type": "code",
   "execution_count": null,
   "metadata": {
    "ExecuteTime": {
     "start_time": "2019-06-12T12:41:12.430Z"
    }
   },
   "outputs": [],
   "source": [
    "# const\n",
    "name = 'fasionClassfictionBN'\n",
    "JST = timezone(timedelta(hours=+9), 'JST')\n",
    "now = datetime.now(JST)\n",
    "nowStr = now.strftime(\"%Y%m%d_%H%M%S\")\n",
    "showImgCount = 10\n",
    "\n",
    "imgHeight = 224\n",
    "imgWidth = 224\n",
    "imgChannel = 3\n",
    "imgShape = [-1, imgHeight, imgWidth, imgChannel]\n",
    "labelSize = 13\n",
    "tfrecordPath = './img/fashionDataset/tfrecord/dataset224.tfrecord'\n",
    "trainRatio = 0.7\n",
    "\n",
    "# hyper parameter\n",
    "bs = 128\n",
    "lr = 0.0001\n",
    "ep = 50\n",
    "\n",
    "logDir = '../logs/{}/{}/'.format(name, nowStr)\n",
    "metadataDir = '{}metadata.tsv'.format(logDir)\n",
    "checkPointDir = '{}images.ckpt'.format(logDir)"
   ]
  },
  {
   "cell_type": "code",
   "execution_count": null,
   "metadata": {
    "ExecuteTime": {
     "start_time": "2019-06-12T12:41:12.432Z"
    },
    "scrolled": false
   },
   "outputs": [],
   "source": [
    "# main\n",
    "with tf.Graph().as_default():\n",
    "    # load data\n",
    "    with tf.variable_scope('tfrecord'):\n",
    "        tfrecord = data.TFRecord(tfrecordPath, labelSize)\n",
    "        dataset = tfrecord.toDataset()\n",
    "        # split dataset\n",
    "        tfrecord = data.TFRecord(tfrecordPath, labelSize)\n",
    "        dataset = tfrecord.toDataset()\n",
    "        trainSize, testSize, trainDataset, testDataset = tfrecord.splitDataset(bs)\n",
    "        trainIteration = trainSize // bs\n",
    "        testIteration = testSize // bs        \n",
    "        # TODO: data augmentation\n",
    "\n",
    "    # make iterator\n",
    "    with tf.variable_scope('train_data'):\n",
    "        trainIterator = trainDataset.make_initializable_iterator()\n",
    "        trainNextBatch = trainIterator.get_next(name='train_next_batch')\n",
    "        trainIteratorInitOp = trainIterator.initializer\n",
    "    with tf.variable_scope('test_data'):\n",
    "        testIterator = testDataset.make_initializable_iterator()\n",
    "        testNextBatch = testIterator.get_next(name='test_next_batch')\n",
    "        testIteratorInitOp = testIterator.initializer\n",
    "\n",
    "    \n",
    "    x = tf.placeholder(\"float\", [None, imgHeight, imgWidth, imgChannel], name='x')\n",
    "    y = tf.placeholder(\"float\", [None, labelSize], name='label')\n",
    "\n",
    "    network = Resnet50(x, labelSize=labelSize)\n",
    "    cost = network.loss(y)\n",
    "    optimizer = tf.train.AdamOptimizer(lr)\n",
    "    accuracy = network.accuracy(y)\n",
    "    trainOp = network.training(cost, optimizer)\n",
    "\n",
    "    # tensor board\n",
    "    with tf.variable_scope('train'):\n",
    "        drawTrainAcc = tf.summary.scalar('acc', accuracy)\n",
    "        drawTrainLoss = tf.summary.scalar('loss', cost)\n",
    "        trainSummaryOp = tf.summary.merge([drawTrainAcc, drawTrainLoss])\n",
    "    with tf.variable_scope(\"validation\"):\n",
    "        drawValAcc = tf.summary.scalar('acc', accuracy)\n",
    "        drawValLoss = tf.summary.scalar('loss', cost)\n",
    "        valSummaryOp = tf.summary.merge([drawValAcc, drawValLoss])\n",
    "    \n",
    "    drawImage = tf.summary.image('train_images', tf.reshape(x, imgShape), showImgCount)\n",
    "    allVariables = tf.get_collection(tf.GraphKeys.GLOBAL_VARIABLES)\n",
    "    summaryOp = tf.summary.merge([drawImage])\n",
    "    \n",
    "    saver = tf.train.Saver()\n",
    "    sess = tf.Session()\n",
    "    summaryWriter = tf.summary.FileWriter(logDir, graph=sess.graph)\n",
    "\n",
    "    sess.run(tf.global_variables_initializer())\n",
    "\n",
    "    # Training cycle\n",
    "    for e in range(ep):\n",
    "        # train\n",
    "        sess.run(trainIteratorInitOp)\n",
    "        for i in range(trainIteration):\n",
    "            _, batchX, batchY = sess.run(trainNextBatch)\n",
    "            sess.run(trainOp, feed_dict={x: batchX, y: batchY})\n",
    "        # Display logs per epoch step\n",
    "        # TODO: coculate avg\n",
    "        trainSummary = sess.run([trainSummaryOp,summaryOp], feed_dict={x: batchX, y: batchY})\n",
    "        for summary in trainSummary:\n",
    "            summaryWriter.add_summary(summary, e)\n",
    "        # validation\n",
    "        sess.run(testIteratorInitOp)\n",
    "        for i in range(testIteration):\n",
    "            _, testBatchX, testBatchY = sess.run(testNextBatch)\n",
    "            sess.run([cost, accuracy], feed_dict={x: testBatchX, y: testBatchY})\n",
    "        # TODO: coculate avg\n",
    "        valSummary = sess.run([valSummaryOp], feed_dict={x: testBatchX, y: testBatchY})\n",
    "        for summary in valSummary:\n",
    "            summaryWriter.add_summary(summary, e)\n",
    "            \n",
    "        saver.save(sess, checkPointDir, global_step=e)\n",
    "        trainAcc = sess.run(accuracy, feed_dict={x: batchX, y: batchY})\n",
    "        valAcc = sess.run(accuracy, feed_dict={x: testBatchX, y: testBatchY})\n",
    "        print('Epoch: {} | Train Accuracy: {} | Validation Accuracy: {}'.format(e, trainAcc, valAcc))\n",
    "    summaryWriter.close()\n",
    "    sess.close()"
   ]
  }
 ],
 "metadata": {
  "kernelspec": {
   "display_name": "Python 3",
   "language": "python",
   "name": "python3"
  },
  "language_info": {
   "codemirror_mode": {
    "name": "ipython",
    "version": 3
   },
   "file_extension": ".py",
   "mimetype": "text/x-python",
   "name": "python",
   "nbconvert_exporter": "python",
   "pygments_lexer": "ipython3",
   "version": "3.5.2"
  }
 },
 "nbformat": 4,
 "nbformat_minor": 2
}
